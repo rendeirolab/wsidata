{
 "cells": [
  {
   "cell_type": "code",
   "execution_count": 1,
   "id": "4395edf5-c2c1-40a9-9174-551523748323",
   "metadata": {},
   "outputs": [
    {
     "name": "stderr",
     "output_type": "stream",
     "text": [
      "SLF4J: No SLF4J providers were found.\n",
      "SLF4J: Defaulting to no-operation (NOP) logger implementation\n",
      "SLF4J: See https://www.slf4j.org/codes.html#noProviders for further details.\n"
     ]
    }
   ],
   "source": [
    "import jpype\n",
    "import scyjava\n",
    "\n",
    "scyjava.config.endpoints.append('ome:formats-gpl')\n",
    "scyjava.start_jvm()\n",
    "loci = jpype.JPackage(\"loci\")\n",
    "loci.common.DebugTools.setRootLevel(\"ERROR\")"
   ]
  },
  {
   "cell_type": "code",
   "execution_count": 278,
   "id": "ed2ab733-ad24-4c5a-86c9-5492c2d17058",
   "metadata": {},
   "outputs": [],
   "source": [
    "scyjava.shutdown_jvm()"
   ]
  },
  {
   "cell_type": "code",
   "execution_count": 91,
   "id": "becdae83-2b65-4906-af83-977ea2f45715",
   "metadata": {},
   "outputs": [],
   "source": [
    "import numpy as np\n",
    "from rich import print\n",
    "import matplotlib.pyplot as plt"
   ]
  },
  {
   "cell_type": "code",
   "execution_count": 132,
   "id": "a165c1ef-c56c-4918-ba4d-6411014cf675",
   "metadata": {},
   "outputs": [],
   "source": [
    "reader = loci.formats.ImageReader()"
   ]
  },
  {
   "cell_type": "code",
   "execution_count": 133,
   "id": "3c815bc7-8f65-42af-9aaa-a0a03d36f534",
   "metadata": {},
   "outputs": [],
   "source": [
    "# Create metadata\n",
    "factory = loci.common.services.ServiceFactory()\n",
    "ome_service = factory.getInstance(loci.formats.services.OMEXMLService)\n",
    "meta = ome_service.createOMEXMLMetadata()\n",
    "reader.setMetadataStore(meta)\n",
    "\n",
    "reader.setFlattenedResolutions(False)"
   ]
  },
  {
   "cell_type": "code",
   "execution_count": 134,
   "id": "800c93bb-ed17-4ad0-85c9-b4174f3807ed",
   "metadata": {},
   "outputs": [],
   "source": [
    "reader.setOriginalMetadataPopulated(True)"
   ]
  },
  {
   "cell_type": "code",
   "execution_count": 181,
   "id": "5ff686a9-d8fb-4ec2-ba56-70f4970a6df2",
   "metadata": {},
   "outputs": [],
   "source": [
    "reader.setId('data/Artery-with-holes.svs')\n",
    "# reader.setId('data/MUW_6P_2019-22301_HE/MUW_6P_2019-22301_HE.vsi')\n",
    "# reader.setId('data/OS-1/OS-1.vsi')"
   ]
  },
  {
   "cell_type": "code",
   "execution_count": 182,
   "id": "65d66bcb-9cc3-4d06-98bb-369f9459567d",
   "metadata": {},
   "outputs": [
    {
     "data": {
      "text/html": [
       "<pre style=\"white-space:pre;overflow-x:auto;line-height:normal;font-family:Menlo,'DejaVu Sans Mono',consolas,'Courier New',monospace\"><span style=\"color: #008080; text-decoration-color: #008080; font-weight: bold\">2</span>\n",
       "</pre>\n"
      ],
      "text/plain": [
       "\u001b[1;36m2\u001b[0m\n"
      ]
     },
     "metadata": {},
     "output_type": "display_data"
    }
   ],
   "source": [
    "n_series = reader.getSeriesCount()\n",
    "print(n_series)"
   ]
  },
  {
   "cell_type": "code",
   "execution_count": 183,
   "id": "999e7378-c2fc-4db3-bca4-288c067bce21",
   "metadata": {},
   "outputs": [
    {
     "data": {
      "text/html": [
       "<pre style=\"white-space:pre;overflow-x:auto;line-height:normal;font-family:Menlo,'DejaVu Sans Mono',consolas,'Courier New',monospace\">For series <span style=\"color: #008080; text-decoration-color: #008080; font-weight: bold\">0</span>, has resolution <span style=\"color: #008080; text-decoration-color: #008080; font-weight: bold\">3</span>\n",
       "</pre>\n"
      ],
      "text/plain": [
       "For series \u001b[1;36m0\u001b[0m, has resolution \u001b[1;36m3\u001b[0m\n"
      ]
     },
     "metadata": {},
     "output_type": "display_data"
    },
    {
     "data": {
      "text/html": [
       "<pre style=\"white-space:pre;overflow-x:auto;line-height:normal;font-family:Menlo,'DejaVu Sans Mono',consolas,'Courier New',monospace\">mpp ome.units.quantity.Length: value<span style=\"font-weight: bold\">[</span><span style=\"color: #008080; text-decoration-color: #008080; font-weight: bold\">0.4942</span><span style=\"font-weight: bold\">]</span>, unit<span style=\"font-weight: bold\">[</span>µm<span style=\"font-weight: bold\">]</span> stored as java.lang.Double\n",
       "</pre>\n"
      ],
      "text/plain": [
       "mpp ome.units.quantity.Length: value\u001b[1m[\u001b[0m\u001b[1;36m0.4942\u001b[0m\u001b[1m]\u001b[0m, unit\u001b[1m[\u001b[0mµm\u001b[1m]\u001b[0m stored as java.lang.Double\n"
      ]
     },
     "metadata": {},
     "output_type": "display_data"
    },
    {
     "data": {
      "text/html": [
       "<pre style=\"white-space:pre;overflow-x:auto;line-height:normal;font-family:Menlo,'DejaVu Sans Mono',consolas,'Courier New',monospace\">mag <span style=\"color: #008080; text-decoration-color: #008080; font-weight: bold\">20.0</span>\n",
       "</pre>\n"
      ],
      "text/plain": [
       "mag \u001b[1;36m20.0\u001b[0m\n"
      ]
     },
     "metadata": {},
     "output_type": "display_data"
    },
    {
     "data": {
      "text/html": [
       "<pre style=\"white-space:pre;overflow-x:auto;line-height:normal;font-family:Menlo,'DejaVu Sans Mono',consolas,'Courier New',monospace\"><span style=\"color: #008080; text-decoration-color: #008080; font-weight: bold\">0</span> <span style=\"color: #008080; text-decoration-color: #008080; font-weight: bold\">19919</span> <span style=\"color: #008080; text-decoration-color: #008080; font-weight: bold\">19958</span> <span style=\"color: #008080; text-decoration-color: #008080; font-weight: bold\">3</span>\n",
       "</pre>\n"
      ],
      "text/plain": [
       "\u001b[1;36m0\u001b[0m \u001b[1;36m19919\u001b[0m \u001b[1;36m19958\u001b[0m \u001b[1;36m3\u001b[0m\n"
      ]
     },
     "metadata": {},
     "output_type": "display_data"
    },
    {
     "data": {
      "text/html": [
       "<pre style=\"white-space:pre;overflow-x:auto;line-height:normal;font-family:Menlo,'DejaVu Sans Mono',consolas,'Courier New',monospace\"><span style=\"color: #008080; text-decoration-color: #008080; font-weight: bold\">1</span> <span style=\"color: #008080; text-decoration-color: #008080; font-weight: bold\">4979</span> <span style=\"color: #008080; text-decoration-color: #008080; font-weight: bold\">4989</span> <span style=\"color: #008080; text-decoration-color: #008080; font-weight: bold\">3</span>\n",
       "</pre>\n"
      ],
      "text/plain": [
       "\u001b[1;36m1\u001b[0m \u001b[1;36m4979\u001b[0m \u001b[1;36m4989\u001b[0m \u001b[1;36m3\u001b[0m\n"
      ]
     },
     "metadata": {},
     "output_type": "display_data"
    },
    {
     "data": {
      "text/html": [
       "<pre style=\"white-space:pre;overflow-x:auto;line-height:normal;font-family:Menlo,'DejaVu Sans Mono',consolas,'Courier New',monospace\"><span style=\"color: #008080; text-decoration-color: #008080; font-weight: bold\">2</span> <span style=\"color: #008080; text-decoration-color: #008080; font-weight: bold\">2489</span> <span style=\"color: #008080; text-decoration-color: #008080; font-weight: bold\">2494</span> <span style=\"color: #008080; text-decoration-color: #008080; font-weight: bold\">3</span>\n",
       "</pre>\n"
      ],
      "text/plain": [
       "\u001b[1;36m2\u001b[0m \u001b[1;36m2489\u001b[0m \u001b[1;36m2494\u001b[0m \u001b[1;36m3\u001b[0m\n"
      ]
     },
     "metadata": {},
     "output_type": "display_data"
    },
    {
     "data": {
      "text/html": [
       "<pre style=\"white-space:pre;overflow-x:auto;line-height:normal;font-family:Menlo,'DejaVu Sans Mono',consolas,'Courier New',monospace\">For series <span style=\"color: #008080; text-decoration-color: #008080; font-weight: bold\">1</span>, has resolution <span style=\"color: #008080; text-decoration-color: #008080; font-weight: bold\">1</span>\n",
       "</pre>\n"
      ],
      "text/plain": [
       "For series \u001b[1;36m1\u001b[0m, has resolution \u001b[1;36m1\u001b[0m\n"
      ]
     },
     "metadata": {},
     "output_type": "display_data"
    },
    {
     "data": {
      "text/html": [
       "<pre style=\"white-space:pre;overflow-x:auto;line-height:normal;font-family:Menlo,'DejaVu Sans Mono',consolas,'Courier New',monospace\">mpp <span style=\"color: #800080; text-decoration-color: #800080; font-style: italic\">None</span>\n",
       "</pre>\n"
      ],
      "text/plain": [
       "mpp \u001b[3;35mNone\u001b[0m\n"
      ]
     },
     "metadata": {},
     "output_type": "display_data"
    },
    {
     "data": {
      "text/html": [
       "<pre style=\"white-space:pre;overflow-x:auto;line-height:normal;font-family:Menlo,'DejaVu Sans Mono',consolas,'Courier New',monospace\">mag <span style=\"color: #800080; text-decoration-color: #800080; font-style: italic\">None</span>\n",
       "</pre>\n"
      ],
      "text/plain": [
       "mag \u001b[3;35mNone\u001b[0m\n"
      ]
     },
     "metadata": {},
     "output_type": "display_data"
    },
    {
     "data": {
      "text/html": [
       "<pre style=\"white-space:pre;overflow-x:auto;line-height:normal;font-family:Menlo,'DejaVu Sans Mono',consolas,'Courier New',monospace\"><span style=\"color: #008080; text-decoration-color: #008080; font-weight: bold\">0</span> <span style=\"color: #008080; text-decoration-color: #008080; font-weight: bold\">1600</span> <span style=\"color: #008080; text-decoration-color: #008080; font-weight: bold\">629</span> <span style=\"color: #008080; text-decoration-color: #008080; font-weight: bold\">3</span>\n",
       "</pre>\n"
      ],
      "text/plain": [
       "\u001b[1;36m0\u001b[0m \u001b[1;36m1600\u001b[0m \u001b[1;36m629\u001b[0m \u001b[1;36m3\u001b[0m\n"
      ]
     },
     "metadata": {},
     "output_type": "display_data"
    }
   ],
   "source": [
    "for series in range(n_series):\n",
    "    reader.setSeries(series)\n",
    "    n_res = reader.getResolutionCount()\n",
    "    print(f\"For series {series}, has resolution {n_res}\")\n",
    "\n",
    "    mpp = meta.getPixelsPhysicalSizeX(series)\n",
    "    if (n_res > 1) | (mpp is not None):\n",
    "        mag = meta.getObjectiveNominalMagnification(0, series)\n",
    "    else:\n",
    "        mag = None\n",
    "    print(\"mpp\", mpp)\n",
    "    print(\"mag\", mag)\n",
    "\n",
    "    for res in range(n_res):\n",
    "        reader.setResolution(res)\n",
    "        x = reader.getSizeX()\n",
    "        y = reader.getSizeY()\n",
    "        n_rgb = reader.getRGBChannelCount()\n",
    "        print(res, x, y, n_rgb)"
   ]
  },
  {
   "cell_type": "code",
   "execution_count": 101,
   "id": "a6bca04d-bf4f-4840-b4d2-0fdc0887b40b",
   "metadata": {},
   "outputs": [],
   "source": [
    "# reader = loci.formats.Memoizer(reader, 1)"
   ]
  },
  {
   "cell_type": "code",
   "execution_count": 80,
   "id": "62f895f7-445e-4d29-a9eb-73de79b2496e",
   "metadata": {},
   "outputs": [],
   "source": [
    "# reader.close()"
   ]
  },
  {
   "cell_type": "code",
   "execution_count": 13,
   "id": "83597cbb-db05-4d03-88e3-90cf9e7f98f9",
   "metadata": {},
   "outputs": [],
   "source": [
    "# Memorize?"
   ]
  },
  {
   "cell_type": "code",
   "execution_count": null,
   "id": "b3ab512d-49d8-4c8d-bbe0-6b65485179d6",
   "metadata": {},
   "outputs": [],
   "source": []
  },
  {
   "cell_type": "code",
   "execution_count": 125,
   "id": "909b0391-0303-439d-a583-87f89ca86fb6",
   "metadata": {},
   "outputs": [
    {
     "data": {
      "text/plain": [
       "1"
      ]
     },
     "execution_count": 125,
     "metadata": {},
     "output_type": "execute_result"
    }
   ],
   "source": [
    "reader.getPixelType()"
   ]
  },
  {
   "cell_type": "code",
   "execution_count": 226,
   "id": "1263e877-8a0a-4e1f-be1a-e788657bf0d0",
   "metadata": {},
   "outputs": [],
   "source": [
    "FT = loci.formats.FormatTools\n",
    "fmt2type = {\n",
    "    FT.INT8: \"i1\",\n",
    "    FT.UINT8: \"u1\",\n",
    "    FT.INT16: \"i2\",\n",
    "    FT.UINT16: \"u2\",\n",
    "    FT.INT32: \"i4\",\n",
    "    FT.UINT32: \"u4\",\n",
    "    FT.FLOAT: \"f4\",\n",
    "    FT.DOUBLE: \"f8\",\n",
    "}"
   ]
  },
  {
   "cell_type": "code",
   "execution_count": 227,
   "id": "e6050435-aa1b-4ba4-a3c5-67db488d55b0",
   "metadata": {},
   "outputs": [
    {
     "data": {
      "text/plain": [
       "'u1'"
      ]
     },
     "execution_count": 227,
     "metadata": {},
     "output_type": "execute_result"
    }
   ],
   "source": [
    "fmt2type[reader.getPixelType()]"
   ]
  },
  {
   "cell_type": "code",
   "execution_count": 223,
   "id": "60b3d26e-a266-496c-8123-3980b208bfc8",
   "metadata": {},
   "outputs": [
    {
     "data": {
      "text/plain": [
       "'data/MUW_6P_2019-22301_HE/MUW_6P_2019-22301_HE.vsi'"
      ]
     },
     "execution_count": 223,
     "metadata": {},
     "output_type": "execute_result"
    }
   ],
   "source": [
    "reader.getCurrentFile()"
   ]
  },
  {
   "cell_type": "code",
   "execution_count": 259,
   "id": "68fd0a5b-3c07-4374-bcbd-f969a29a884d",
   "metadata": {},
   "outputs": [],
   "source": [
    "n_level = reader.getSeriesCount()"
   ]
  },
  {
   "cell_type": "code",
   "execution_count": 126,
   "id": "4d0e6039-743b-43a0-a715-9b40cc8a8640",
   "metadata": {},
   "outputs": [
    {
     "data": {
      "text/plain": [
       "16"
      ]
     },
     "execution_count": 126,
     "metadata": {},
     "output_type": "execute_result"
    }
   ],
   "source": [
    "meta.getImageCount()"
   ]
  },
  {
   "cell_type": "code",
   "execution_count": 127,
   "id": "0bdd5ffb-1b41-47df-91c5-31fbcdc0172d",
   "metadata": {},
   "outputs": [
    {
     "data": {
      "text/html": [
       "<pre style=\"white-space:pre;overflow-x:auto;line-height:normal;font-family:Menlo,'DejaVu Sans Mono',consolas,'Courier New',monospace\"><span style=\"color: #008080; text-decoration-color: #008080; font-weight: bold\">6753</span>\n",
       "</pre>\n"
      ],
      "text/plain": [
       "\u001b[1;36m6753\u001b[0m\n"
      ]
     },
     "metadata": {},
     "output_type": "display_data"
    }
   ],
   "source": [
    "i = meta.getPixelsSizeX(0)\n",
    "print(i)"
   ]
  },
  {
   "cell_type": "code",
   "execution_count": 98,
   "id": "b0a29741-659b-4c85-8ee5-df2a99723d19",
   "metadata": {},
   "outputs": [],
   "source": [
    "reader.setSeries(0)"
   ]
  },
  {
   "cell_type": "code",
   "execution_count": 110,
   "id": "cb34d70e-e5c3-4fc1-a7af-f4d922715bd9",
   "metadata": {},
   "outputs": [
    {
     "data": {
      "text/html": [
       "<pre style=\"white-space:pre;overflow-x:auto;line-height:normal;font-family:Menlo,'DejaVu Sans Mono',consolas,'Courier New',monospace\">ome.units.quantity.Length: value<span style=\"font-weight: bold\">[</span><span style=\"color: #008080; text-decoration-color: #008080; font-weight: bold\">2.7506736095880218</span><span style=\"font-weight: bold\">]</span>, unit<span style=\"font-weight: bold\">[</span>µm<span style=\"font-weight: bold\">]</span> stored as java.lang.Double\n",
       "</pre>\n"
      ],
      "text/plain": [
       "ome.units.quantity.Length: value\u001b[1m[\u001b[0m\u001b[1;36m2.7506736095880218\u001b[0m\u001b[1m]\u001b[0m, unit\u001b[1m[\u001b[0mµm\u001b[1m]\u001b[0m stored as java.lang.Double\n"
      ]
     },
     "metadata": {},
     "output_type": "display_data"
    }
   ],
   "source": [
    "i = meta.getPixelsPhysicalSizeX(6)\n",
    "print(i)"
   ]
  },
  {
   "cell_type": "code",
   "execution_count": 104,
   "id": "8d48f2e7-7fb1-466d-95b7-c765d190feb1",
   "metadata": {},
   "outputs": [
    {
     "data": {
      "text/plain": [
       "2.750520368718406"
      ]
     },
     "execution_count": 104,
     "metadata": {},
     "output_type": "execute_result"
    }
   ],
   "source": [
    "i.value()"
   ]
  },
  {
   "cell_type": "code",
   "execution_count": 198,
   "id": "c244ba45-0722-484c-aa42-984319ff420d",
   "metadata": {},
   "outputs": [
    {
     "data": {
      "text/plain": [
       "True"
      ]
     },
     "execution_count": 198,
     "metadata": {},
     "output_type": "execute_result"
    }
   ],
   "source": [
    "reader.isInterleaved()"
   ]
  },
  {
   "cell_type": "code",
   "execution_count": 176,
   "id": "93515e89-7ff3-4472-bc46-4ca7c25959c4",
   "metadata": {},
   "outputs": [],
   "source": [
    "reader.setSeries(0)\n",
    "reader.setResolution(2)\n",
    "idx_pointer = reader.getIndex(0, 0, 0)"
   ]
  },
  {
   "cell_type": "code",
   "execution_count": 184,
   "id": "23167c7f-405a-46b7-a27e-a0841f542d99",
   "metadata": {},
   "outputs": [
    {
     "data": {
      "text/html": [
       "<pre style=\"white-space:pre;overflow-x:auto;line-height:normal;font-family:Menlo,'DejaVu Sans Mono',consolas,'Courier New',monospace\"><span style=\"color: #008080; text-decoration-color: #008080; font-weight: bold\">1600</span> <span style=\"color: #008080; text-decoration-color: #008080; font-weight: bold\">629</span>\n",
       "</pre>\n"
      ],
      "text/plain": [
       "\u001b[1;36m1600\u001b[0m \u001b[1;36m629\u001b[0m\n"
      ]
     },
     "metadata": {},
     "output_type": "display_data"
    }
   ],
   "source": [
    "y = reader.getSizeY()\n",
    "x = reader.getSizeX()\n",
    "print(x, y)"
   ]
  },
  {
   "cell_type": "code",
   "execution_count": 178,
   "id": "8e678f83-b8d8-496a-9382-ffc6743c1154",
   "metadata": {},
   "outputs": [],
   "source": [
    "reader.setFillColor(scyjava.to_java(0, type=\"b\"))"
   ]
  },
  {
   "cell_type": "code",
   "execution_count": 185,
   "id": "9100a415-9cdf-41bc-b78d-a3ff329b1336",
   "metadata": {},
   "outputs": [],
   "source": [
    "buffer = reader.openBytes(idx_pointer, 0, 0, 1600, 629)"
   ]
  },
  {
   "cell_type": "code",
   "execution_count": 186,
   "id": "9fe67808-9e4a-40f2-ab29-7345c3ab795c",
   "metadata": {},
   "outputs": [
    {
     "ename": "ValueError",
     "evalue": "cannot reshape array of size 3019200 into shape (100,100,3)",
     "output_type": "error",
     "traceback": [
      "\u001b[0;31m---------------------------------------------------------------------------\u001b[0m",
      "\u001b[0;31mValueError\u001b[0m                                Traceback (most recent call last)",
      "Cell \u001b[0;32mIn[186], line 2\u001b[0m\n\u001b[1;32m      1\u001b[0m im \u001b[38;5;241m=\u001b[39m np\u001b[38;5;241m.\u001b[39mfrombuffer(\u001b[38;5;28mbytes\u001b[39m(buffer), dtype\u001b[38;5;241m=\u001b[39mnp\u001b[38;5;241m.\u001b[39muint8)\n\u001b[0;32m----> 2\u001b[0m \u001b[43mim\u001b[49m\u001b[38;5;241;43m.\u001b[39;49m\u001b[43mshape\u001b[49m \u001b[38;5;241m=\u001b[39m (\u001b[38;5;241m100\u001b[39m, \u001b[38;5;241m100\u001b[39m, \u001b[38;5;241m3\u001b[39m)\n\u001b[1;32m      3\u001b[0m \u001b[38;5;66;03m# im = np.transpose(im, (1, 2, 0))\u001b[39;00m\n",
      "\u001b[0;31mValueError\u001b[0m: cannot reshape array of size 3019200 into shape (100,100,3)"
     ]
    }
   ],
   "source": [
    "im = np.frombuffer(bytes(buffer), dtype=np.uint8)\n",
    "im.shape = (100, 100, 3)\n",
    "# im = np.transpose(im, (1, 2, 0))"
   ]
  },
  {
   "cell_type": "code",
   "execution_count": 187,
   "id": "d82583ca-2292-43e1-bc07-54c07d2fb152",
   "metadata": {},
   "outputs": [
    {
     "ename": "TypeError",
     "evalue": "Invalid shape (3019200,) for image data",
     "output_type": "error",
     "traceback": [
      "\u001b[0;31m---------------------------------------------------------------------------\u001b[0m",
      "\u001b[0;31mTypeError\u001b[0m                                 Traceback (most recent call last)",
      "Cell \u001b[0;32mIn[187], line 1\u001b[0m\n\u001b[0;32m----> 1\u001b[0m \u001b[43mplt\u001b[49m\u001b[38;5;241;43m.\u001b[39;49m\u001b[43mimshow\u001b[49m\u001b[43m(\u001b[49m\u001b[43mim\u001b[49m\u001b[43m)\u001b[49m\n",
      "File \u001b[0;32m~/miniforge3/envs/lazyslide/lib/python3.11/site-packages/matplotlib/pyplot.py:3562\u001b[0m, in \u001b[0;36mimshow\u001b[0;34m(X, cmap, norm, aspect, interpolation, alpha, vmin, vmax, origin, extent, interpolation_stage, filternorm, filterrad, resample, url, data, **kwargs)\u001b[0m\n\u001b[1;32m   3541\u001b[0m \u001b[38;5;129m@_copy_docstring_and_deprecators\u001b[39m(Axes\u001b[38;5;241m.\u001b[39mimshow)\n\u001b[1;32m   3542\u001b[0m \u001b[38;5;28;01mdef\u001b[39;00m \u001b[38;5;21mimshow\u001b[39m(\n\u001b[1;32m   3543\u001b[0m     X: ArrayLike \u001b[38;5;241m|\u001b[39m PIL\u001b[38;5;241m.\u001b[39mImage\u001b[38;5;241m.\u001b[39mImage,\n\u001b[0;32m   (...)\u001b[0m\n\u001b[1;32m   3560\u001b[0m     \u001b[38;5;241m*\u001b[39m\u001b[38;5;241m*\u001b[39mkwargs,\n\u001b[1;32m   3561\u001b[0m ) \u001b[38;5;241m-\u001b[39m\u001b[38;5;241m>\u001b[39m AxesImage:\n\u001b[0;32m-> 3562\u001b[0m     __ret \u001b[38;5;241m=\u001b[39m \u001b[43mgca\u001b[49m\u001b[43m(\u001b[49m\u001b[43m)\u001b[49m\u001b[38;5;241;43m.\u001b[39;49m\u001b[43mimshow\u001b[49m\u001b[43m(\u001b[49m\n\u001b[1;32m   3563\u001b[0m \u001b[43m        \u001b[49m\u001b[43mX\u001b[49m\u001b[43m,\u001b[49m\n\u001b[1;32m   3564\u001b[0m \u001b[43m        \u001b[49m\u001b[43mcmap\u001b[49m\u001b[38;5;241;43m=\u001b[39;49m\u001b[43mcmap\u001b[49m\u001b[43m,\u001b[49m\n\u001b[1;32m   3565\u001b[0m \u001b[43m        \u001b[49m\u001b[43mnorm\u001b[49m\u001b[38;5;241;43m=\u001b[39;49m\u001b[43mnorm\u001b[49m\u001b[43m,\u001b[49m\n\u001b[1;32m   3566\u001b[0m \u001b[43m        \u001b[49m\u001b[43maspect\u001b[49m\u001b[38;5;241;43m=\u001b[39;49m\u001b[43maspect\u001b[49m\u001b[43m,\u001b[49m\n\u001b[1;32m   3567\u001b[0m \u001b[43m        \u001b[49m\u001b[43minterpolation\u001b[49m\u001b[38;5;241;43m=\u001b[39;49m\u001b[43minterpolation\u001b[49m\u001b[43m,\u001b[49m\n\u001b[1;32m   3568\u001b[0m \u001b[43m        \u001b[49m\u001b[43malpha\u001b[49m\u001b[38;5;241;43m=\u001b[39;49m\u001b[43malpha\u001b[49m\u001b[43m,\u001b[49m\n\u001b[1;32m   3569\u001b[0m \u001b[43m        \u001b[49m\u001b[43mvmin\u001b[49m\u001b[38;5;241;43m=\u001b[39;49m\u001b[43mvmin\u001b[49m\u001b[43m,\u001b[49m\n\u001b[1;32m   3570\u001b[0m \u001b[43m        \u001b[49m\u001b[43mvmax\u001b[49m\u001b[38;5;241;43m=\u001b[39;49m\u001b[43mvmax\u001b[49m\u001b[43m,\u001b[49m\n\u001b[1;32m   3571\u001b[0m \u001b[43m        \u001b[49m\u001b[43morigin\u001b[49m\u001b[38;5;241;43m=\u001b[39;49m\u001b[43morigin\u001b[49m\u001b[43m,\u001b[49m\n\u001b[1;32m   3572\u001b[0m \u001b[43m        \u001b[49m\u001b[43mextent\u001b[49m\u001b[38;5;241;43m=\u001b[39;49m\u001b[43mextent\u001b[49m\u001b[43m,\u001b[49m\n\u001b[1;32m   3573\u001b[0m \u001b[43m        \u001b[49m\u001b[43minterpolation_stage\u001b[49m\u001b[38;5;241;43m=\u001b[39;49m\u001b[43minterpolation_stage\u001b[49m\u001b[43m,\u001b[49m\n\u001b[1;32m   3574\u001b[0m \u001b[43m        \u001b[49m\u001b[43mfilternorm\u001b[49m\u001b[38;5;241;43m=\u001b[39;49m\u001b[43mfilternorm\u001b[49m\u001b[43m,\u001b[49m\n\u001b[1;32m   3575\u001b[0m \u001b[43m        \u001b[49m\u001b[43mfilterrad\u001b[49m\u001b[38;5;241;43m=\u001b[39;49m\u001b[43mfilterrad\u001b[49m\u001b[43m,\u001b[49m\n\u001b[1;32m   3576\u001b[0m \u001b[43m        \u001b[49m\u001b[43mresample\u001b[49m\u001b[38;5;241;43m=\u001b[39;49m\u001b[43mresample\u001b[49m\u001b[43m,\u001b[49m\n\u001b[1;32m   3577\u001b[0m \u001b[43m        \u001b[49m\u001b[43murl\u001b[49m\u001b[38;5;241;43m=\u001b[39;49m\u001b[43murl\u001b[49m\u001b[43m,\u001b[49m\n\u001b[1;32m   3578\u001b[0m \u001b[43m        \u001b[49m\u001b[38;5;241;43m*\u001b[39;49m\u001b[38;5;241;43m*\u001b[39;49m\u001b[43m(\u001b[49m\u001b[43m{\u001b[49m\u001b[38;5;124;43m\"\u001b[39;49m\u001b[38;5;124;43mdata\u001b[39;49m\u001b[38;5;124;43m\"\u001b[39;49m\u001b[43m:\u001b[49m\u001b[43m \u001b[49m\u001b[43mdata\u001b[49m\u001b[43m}\u001b[49m\u001b[43m \u001b[49m\u001b[38;5;28;43;01mif\u001b[39;49;00m\u001b[43m \u001b[49m\u001b[43mdata\u001b[49m\u001b[43m \u001b[49m\u001b[38;5;129;43;01mis\u001b[39;49;00m\u001b[43m \u001b[49m\u001b[38;5;129;43;01mnot\u001b[39;49;00m\u001b[43m \u001b[49m\u001b[38;5;28;43;01mNone\u001b[39;49;00m\u001b[43m \u001b[49m\u001b[38;5;28;43;01melse\u001b[39;49;00m\u001b[43m \u001b[49m\u001b[43m{\u001b[49m\u001b[43m}\u001b[49m\u001b[43m)\u001b[49m\u001b[43m,\u001b[49m\n\u001b[1;32m   3579\u001b[0m \u001b[43m        \u001b[49m\u001b[38;5;241;43m*\u001b[39;49m\u001b[38;5;241;43m*\u001b[39;49m\u001b[43mkwargs\u001b[49m\u001b[43m,\u001b[49m\n\u001b[1;32m   3580\u001b[0m \u001b[43m    \u001b[49m\u001b[43m)\u001b[49m\n\u001b[1;32m   3581\u001b[0m     sci(__ret)\n\u001b[1;32m   3582\u001b[0m     \u001b[38;5;28;01mreturn\u001b[39;00m __ret\n",
      "File \u001b[0;32m~/miniforge3/envs/lazyslide/lib/python3.11/site-packages/matplotlib/__init__.py:1473\u001b[0m, in \u001b[0;36m_preprocess_data.<locals>.inner\u001b[0;34m(ax, data, *args, **kwargs)\u001b[0m\n\u001b[1;32m   1470\u001b[0m \u001b[38;5;129m@functools\u001b[39m\u001b[38;5;241m.\u001b[39mwraps(func)\n\u001b[1;32m   1471\u001b[0m \u001b[38;5;28;01mdef\u001b[39;00m \u001b[38;5;21minner\u001b[39m(ax, \u001b[38;5;241m*\u001b[39margs, data\u001b[38;5;241m=\u001b[39m\u001b[38;5;28;01mNone\u001b[39;00m, \u001b[38;5;241m*\u001b[39m\u001b[38;5;241m*\u001b[39mkwargs):\n\u001b[1;32m   1472\u001b[0m     \u001b[38;5;28;01mif\u001b[39;00m data \u001b[38;5;129;01mis\u001b[39;00m \u001b[38;5;28;01mNone\u001b[39;00m:\n\u001b[0;32m-> 1473\u001b[0m         \u001b[38;5;28;01mreturn\u001b[39;00m \u001b[43mfunc\u001b[49m\u001b[43m(\u001b[49m\n\u001b[1;32m   1474\u001b[0m \u001b[43m            \u001b[49m\u001b[43max\u001b[49m\u001b[43m,\u001b[49m\n\u001b[1;32m   1475\u001b[0m \u001b[43m            \u001b[49m\u001b[38;5;241;43m*\u001b[39;49m\u001b[38;5;28;43mmap\u001b[39;49m\u001b[43m(\u001b[49m\u001b[43msanitize_sequence\u001b[49m\u001b[43m,\u001b[49m\u001b[43m \u001b[49m\u001b[43margs\u001b[49m\u001b[43m)\u001b[49m\u001b[43m,\u001b[49m\n\u001b[1;32m   1476\u001b[0m \u001b[43m            \u001b[49m\u001b[38;5;241;43m*\u001b[39;49m\u001b[38;5;241;43m*\u001b[39;49m\u001b[43m{\u001b[49m\u001b[43mk\u001b[49m\u001b[43m:\u001b[49m\u001b[43m \u001b[49m\u001b[43msanitize_sequence\u001b[49m\u001b[43m(\u001b[49m\u001b[43mv\u001b[49m\u001b[43m)\u001b[49m\u001b[43m \u001b[49m\u001b[38;5;28;43;01mfor\u001b[39;49;00m\u001b[43m \u001b[49m\u001b[43mk\u001b[49m\u001b[43m,\u001b[49m\u001b[43m \u001b[49m\u001b[43mv\u001b[49m\u001b[43m \u001b[49m\u001b[38;5;129;43;01min\u001b[39;49;00m\u001b[43m \u001b[49m\u001b[43mkwargs\u001b[49m\u001b[38;5;241;43m.\u001b[39;49m\u001b[43mitems\u001b[49m\u001b[43m(\u001b[49m\u001b[43m)\u001b[49m\u001b[43m}\u001b[49m\u001b[43m)\u001b[49m\n\u001b[1;32m   1478\u001b[0m     bound \u001b[38;5;241m=\u001b[39m new_sig\u001b[38;5;241m.\u001b[39mbind(ax, \u001b[38;5;241m*\u001b[39margs, \u001b[38;5;241m*\u001b[39m\u001b[38;5;241m*\u001b[39mkwargs)\n\u001b[1;32m   1479\u001b[0m     auto_label \u001b[38;5;241m=\u001b[39m (bound\u001b[38;5;241m.\u001b[39marguments\u001b[38;5;241m.\u001b[39mget(label_namer)\n\u001b[1;32m   1480\u001b[0m                   \u001b[38;5;129;01mor\u001b[39;00m bound\u001b[38;5;241m.\u001b[39mkwargs\u001b[38;5;241m.\u001b[39mget(label_namer))\n",
      "File \u001b[0;32m~/miniforge3/envs/lazyslide/lib/python3.11/site-packages/matplotlib/axes/_axes.py:5895\u001b[0m, in \u001b[0;36mAxes.imshow\u001b[0;34m(self, X, cmap, norm, aspect, interpolation, alpha, vmin, vmax, origin, extent, interpolation_stage, filternorm, filterrad, resample, url, **kwargs)\u001b[0m\n\u001b[1;32m   5892\u001b[0m \u001b[38;5;28;01mif\u001b[39;00m aspect \u001b[38;5;129;01mis\u001b[39;00m \u001b[38;5;129;01mnot\u001b[39;00m \u001b[38;5;28;01mNone\u001b[39;00m:\n\u001b[1;32m   5893\u001b[0m     \u001b[38;5;28mself\u001b[39m\u001b[38;5;241m.\u001b[39mset_aspect(aspect)\n\u001b[0;32m-> 5895\u001b[0m \u001b[43mim\u001b[49m\u001b[38;5;241;43m.\u001b[39;49m\u001b[43mset_data\u001b[49m\u001b[43m(\u001b[49m\u001b[43mX\u001b[49m\u001b[43m)\u001b[49m\n\u001b[1;32m   5896\u001b[0m im\u001b[38;5;241m.\u001b[39mset_alpha(alpha)\n\u001b[1;32m   5897\u001b[0m \u001b[38;5;28;01mif\u001b[39;00m im\u001b[38;5;241m.\u001b[39mget_clip_path() \u001b[38;5;129;01mis\u001b[39;00m \u001b[38;5;28;01mNone\u001b[39;00m:\n\u001b[1;32m   5898\u001b[0m     \u001b[38;5;66;03m# image does not already have clipping set, clip to Axes patch\u001b[39;00m\n",
      "File \u001b[0;32m~/miniforge3/envs/lazyslide/lib/python3.11/site-packages/matplotlib/image.py:729\u001b[0m, in \u001b[0;36m_ImageBase.set_data\u001b[0;34m(self, A)\u001b[0m\n\u001b[1;32m    727\u001b[0m \u001b[38;5;28;01mif\u001b[39;00m \u001b[38;5;28misinstance\u001b[39m(A, PIL\u001b[38;5;241m.\u001b[39mImage\u001b[38;5;241m.\u001b[39mImage):\n\u001b[1;32m    728\u001b[0m     A \u001b[38;5;241m=\u001b[39m pil_to_array(A)  \u001b[38;5;66;03m# Needed e.g. to apply png palette.\u001b[39;00m\n\u001b[0;32m--> 729\u001b[0m \u001b[38;5;28mself\u001b[39m\u001b[38;5;241m.\u001b[39m_A \u001b[38;5;241m=\u001b[39m \u001b[38;5;28;43mself\u001b[39;49m\u001b[38;5;241;43m.\u001b[39;49m\u001b[43m_normalize_image_array\u001b[49m\u001b[43m(\u001b[49m\u001b[43mA\u001b[49m\u001b[43m)\u001b[49m\n\u001b[1;32m    730\u001b[0m \u001b[38;5;28mself\u001b[39m\u001b[38;5;241m.\u001b[39m_imcache \u001b[38;5;241m=\u001b[39m \u001b[38;5;28;01mNone\u001b[39;00m\n\u001b[1;32m    731\u001b[0m \u001b[38;5;28mself\u001b[39m\u001b[38;5;241m.\u001b[39mstale \u001b[38;5;241m=\u001b[39m \u001b[38;5;28;01mTrue\u001b[39;00m\n",
      "File \u001b[0;32m~/miniforge3/envs/lazyslide/lib/python3.11/site-packages/matplotlib/image.py:697\u001b[0m, in \u001b[0;36m_ImageBase._normalize_image_array\u001b[0;34m(A)\u001b[0m\n\u001b[1;32m    695\u001b[0m     A \u001b[38;5;241m=\u001b[39m A\u001b[38;5;241m.\u001b[39msqueeze(\u001b[38;5;241m-\u001b[39m\u001b[38;5;241m1\u001b[39m)  \u001b[38;5;66;03m# If just (M, N, 1), assume scalar and apply colormap.\u001b[39;00m\n\u001b[1;32m    696\u001b[0m \u001b[38;5;28;01mif\u001b[39;00m \u001b[38;5;129;01mnot\u001b[39;00m (A\u001b[38;5;241m.\u001b[39mndim \u001b[38;5;241m==\u001b[39m \u001b[38;5;241m2\u001b[39m \u001b[38;5;129;01mor\u001b[39;00m A\u001b[38;5;241m.\u001b[39mndim \u001b[38;5;241m==\u001b[39m \u001b[38;5;241m3\u001b[39m \u001b[38;5;129;01mand\u001b[39;00m A\u001b[38;5;241m.\u001b[39mshape[\u001b[38;5;241m-\u001b[39m\u001b[38;5;241m1\u001b[39m] \u001b[38;5;129;01min\u001b[39;00m [\u001b[38;5;241m3\u001b[39m, \u001b[38;5;241m4\u001b[39m]):\n\u001b[0;32m--> 697\u001b[0m     \u001b[38;5;28;01mraise\u001b[39;00m \u001b[38;5;167;01mTypeError\u001b[39;00m(\u001b[38;5;124mf\u001b[39m\u001b[38;5;124m\"\u001b[39m\u001b[38;5;124mInvalid shape \u001b[39m\u001b[38;5;132;01m{\u001b[39;00mA\u001b[38;5;241m.\u001b[39mshape\u001b[38;5;132;01m}\u001b[39;00m\u001b[38;5;124m for image data\u001b[39m\u001b[38;5;124m\"\u001b[39m)\n\u001b[1;32m    698\u001b[0m \u001b[38;5;28;01mif\u001b[39;00m A\u001b[38;5;241m.\u001b[39mndim \u001b[38;5;241m==\u001b[39m \u001b[38;5;241m3\u001b[39m:\n\u001b[1;32m    699\u001b[0m     \u001b[38;5;66;03m# If the input data has values outside the valid range (after\u001b[39;00m\n\u001b[1;32m    700\u001b[0m     \u001b[38;5;66;03m# normalisation), we issue a warning and then clip X to the bounds\u001b[39;00m\n\u001b[1;32m    701\u001b[0m     \u001b[38;5;66;03m# - otherwise casting wraps extreme values, hiding outliers and\u001b[39;00m\n\u001b[1;32m    702\u001b[0m     \u001b[38;5;66;03m# making reliable interpretation impossible.\u001b[39;00m\n\u001b[1;32m    703\u001b[0m     high \u001b[38;5;241m=\u001b[39m \u001b[38;5;241m255\u001b[39m \u001b[38;5;28;01mif\u001b[39;00m np\u001b[38;5;241m.\u001b[39missubdtype(A\u001b[38;5;241m.\u001b[39mdtype, np\u001b[38;5;241m.\u001b[39minteger) \u001b[38;5;28;01melse\u001b[39;00m \u001b[38;5;241m1\u001b[39m\n",
      "\u001b[0;31mTypeError\u001b[0m: Invalid shape (3019200,) for image data"
     ]
    },
    {
     "data": {
      "image/png": "[encoded data removed]",
      "text/plain": [
       "<Figure size 640x480 with 1 Axes>"
      ]
     },
     "metadata": {},
     "output_type": "display_data"
    }
   ],
   "source": [
    "plt.imshow(im)"
   ]
  },
  {
   "cell_type": "code",
   "execution_count": 130,
   "id": "a24a21b1-e25b-41b6-a163-a6be7fbb29b3",
   "metadata": {},
   "outputs": [
    {
     "ename": "java.lang.IndexOutOfBoundsException",
     "evalue": "java.lang.IndexOutOfBoundsException: Index 2 out of bounds for length 2",
     "output_type": "error",
     "traceback": [
      "\u001b[0;31m---------------------------------------------------------------------------\u001b[0m",
      "\u001b[0;31mException\u001b[0m                                 Traceback (most recent call last)",
      "File \u001b[0;32mOMEXMLMetadataImpl.java:2959\u001b[0m, in \u001b[0;36mome.xml.meta.OMEXMLMetadataImpl.getObjectiveNominalMagnification\u001b[0;34m()\u001b[0m\n",
      "\u001b[0;31mException\u001b[0m: Java Exception",
      "\nThe above exception was the direct cause of the following exception:\n",
      "\u001b[0;31mjava.lang.IndexOutOfBoundsException\u001b[0m       Traceback (most recent call last)",
      "Cell \u001b[0;32mIn[130], line 1\u001b[0m\n\u001b[0;32m----> 1\u001b[0m \u001b[43mmeta\u001b[49m\u001b[38;5;241;43m.\u001b[39;49m\u001b[43mgetObjectiveNominalMagnification\u001b[49m\u001b[43m(\u001b[49m\u001b[38;5;241;43m0\u001b[39;49m\u001b[43m,\u001b[49m\u001b[43m \u001b[49m\u001b[38;5;241;43m2\u001b[39;49m\u001b[43m)\u001b[49m\n",
      "\u001b[0;31mjava.lang.IndexOutOfBoundsException\u001b[0m: java.lang.IndexOutOfBoundsException: Index 2 out of bounds for length 2"
     ]
    }
   ],
   "source": [
    "meta.getObjectiveNominalMagnification(0, 2)"
   ]
  },
  {
   "cell_type": "code",
   "execution_count": 124,
   "id": "551e6710-3e5f-416a-8929-471073832e1c",
   "metadata": {},
   "outputs": [],
   "source": [
    "i = meta.getObjectiveCalibratedMagnification(0, 0)"
   ]
  },
  {
   "cell_type": "code",
   "execution_count": 125,
   "id": "8cc2258d-d26b-4aac-8cdc-f1d4ca64c9a5",
   "metadata": {},
   "outputs": [
    {
     "data": {
      "text/html": [
       "<pre style=\"white-space:pre;overflow-x:auto;line-height:normal;font-family:Menlo,'DejaVu Sans Mono',consolas,'Courier New',monospace\"><span style=\"color: #800080; text-decoration-color: #800080; font-style: italic\">None</span>\n",
       "</pre>\n"
      ],
      "text/plain": [
       "\u001b[3;35mNone\u001b[0m\n"
      ]
     },
     "metadata": {},
     "output_type": "display_data"
    }
   ],
   "source": [
    "print(i)"
   ]
  },
  {
   "cell_type": "code",
   "execution_count": 28,
   "id": "2325d04d-1f67-4b07-9a8f-7c99d32d79d7",
   "metadata": {},
   "outputs": [],
   "source": [
    "buffer = reader.openThumbBytes(0)"
   ]
  },
  {
   "cell_type": "code",
   "execution_count": 29,
   "id": "be9027c8-fd61-4989-9e8b-e71cca326170",
   "metadata": {},
   "outputs": [],
   "source": [
    "im = np.frombuffer(bytes(buffer), dtype=np.uint8)"
   ]
  },
  {
   "cell_type": "code",
   "execution_count": 32,
   "id": "5ba0acf8-2f3a-4d28-9934-f1bf73f6835d",
   "metadata": {},
   "outputs": [
    {
     "data": {
      "text/plain": [
       "113"
      ]
     },
     "execution_count": 32,
     "metadata": {},
     "output_type": "execute_result"
    }
   ],
   "source": [
    "reader.getThumbSizeX()"
   ]
  },
  {
   "cell_type": "code",
   "execution_count": 33,
   "id": "7a7ea39d-6cc6-44a2-a2a7-1544d7f7b730",
   "metadata": {},
   "outputs": [
    {
     "data": {
      "text/plain": [
       "128"
      ]
     },
     "execution_count": 33,
     "metadata": {},
     "output_type": "execute_result"
    }
   ],
   "source": [
    "reader.getThumbSizeY()"
   ]
  },
  {
   "cell_type": "code",
   "execution_count": 126,
   "id": "eb063dcf-156c-42d2-8eef-7416b9f74b80",
   "metadata": {},
   "outputs": [],
   "source": [
    "# 40x, 0.17"
   ]
  },
  {
   "cell_type": "code",
   "execution_count": 127,
   "id": "c67c6f7e-ba6a-4b3a-ab64-2b3b2876f9f3",
   "metadata": {},
   "outputs": [
    {
     "data": {
      "text/plain": [
       "'µm'"
      ]
     },
     "execution_count": 127,
     "metadata": {},
     "output_type": "execute_result"
    }
   ],
   "source": [
    "unit.getSymbol()"
   ]
  },
  {
   "cell_type": "code",
   "execution_count": 234,
   "id": "e148f0ac-1692-4504-a09c-ea60a6c89d5b",
   "metadata": {},
   "outputs": [
    {
     "data": {
      "text/plain": [
       "1"
      ]
     },
     "execution_count": 234,
     "metadata": {},
     "output_type": "execute_result"
    }
   ],
   "source": [
    "meta.getInstrumentCount()"
   ]
  },
  {
   "cell_type": "code",
   "execution_count": 236,
   "id": "5e99d017-e568-444d-b3fb-601d4999f977",
   "metadata": {},
   "outputs": [
    {
     "data": {
      "text/plain": [
       "3"
      ]
     },
     "execution_count": 236,
     "metadata": {},
     "output_type": "execute_result"
    }
   ],
   "source": [
    "meta.getObjectiveCount(0)"
   ]
  },
  {
   "cell_type": "code",
   "execution_count": null,
   "id": "67067322-a214-471d-bb91-9849bc241144",
   "metadata": {},
   "outputs": [],
   "source": [
    "for "
   ]
  },
  {
   "cell_type": "code",
   "execution_count": 237,
   "id": "8d7f0714-b1a0-4758-8d5d-f6d923a7d49d",
   "metadata": {},
   "outputs": [],
   "source": [
    "meta.getObjectiveLotNumber(0, 0)"
   ]
  },
  {
   "cell_type": "code",
   "execution_count": 245,
   "id": "99833cfa-d122-4918-be25-4b2ac3b31dc7",
   "metadata": {},
   "outputs": [
    {
     "data": {
      "text/plain": [
       "1"
      ]
     },
     "execution_count": 245,
     "metadata": {},
     "output_type": "execute_result"
    }
   ],
   "source": [
    "meta.getPlaneCount(2)"
   ]
  },
  {
   "cell_type": "code",
   "execution_count": 120,
   "id": "49a2d269-d584-43b4-8629-12af541abc69",
   "metadata": {},
   "outputs": [
    {
     "data": {
      "text/html": [
       "<pre style=\"white-space:pre;overflow-x:auto;line-height:normal;font-family:Menlo,'DejaVu Sans Mono',consolas,'Courier New',monospace\"><span style=\"color: #008080; text-decoration-color: #008080; font-weight: bold\">40.0</span>\n",
       "</pre>\n"
      ],
      "text/plain": [
       "\u001b[1;36m40.0\u001b[0m\n"
      ]
     },
     "metadata": {},
     "output_type": "display_data"
    }
   ],
   "source": [
    "print(meta.getObjectiveNominalMagnification(0, 2))"
   ]
  },
  {
   "cell_type": "code",
   "execution_count": 116,
   "id": "50bbb5e3-d720-4ea3-a1af-c10b373440ef",
   "metadata": {},
   "outputs": [
    {
     "data": {
      "text/plain": [
       "1"
      ]
     },
     "execution_count": 116,
     "metadata": {},
     "output_type": "execute_result"
    }
   ],
   "source": [
    "meta.getResolutionCount(2)"
   ]
  },
  {
   "cell_type": "code",
   "execution_count": 111,
   "id": "7aff3ec0-8ff4-4bf0-a701-16d7410ec4ca",
   "metadata": {},
   "outputs": [
    {
     "data": {
      "text/plain": [
       "\u001b[0;31mSignature:\u001b[0m \u001b[0mmeta\u001b[0m\u001b[0;34m.\u001b[0m\u001b[0mgetObjectiveNominalMagnification\u001b[0m\u001b[0;34m(\u001b[0m\u001b[0;34m*\u001b[0m\u001b[0margs\u001b[0m\u001b[0;34m)\u001b[0m \u001b[0;34m->\u001b[0m \u001b[0mjava\u001b[0m\u001b[0;34m.\u001b[0m\u001b[0mlang\u001b[0m\u001b[0;34m.\u001b[0m\u001b[0mjava\u001b[0m\u001b[0;34m.\u001b[0m\u001b[0mlang\u001b[0m\u001b[0;34m.\u001b[0m\u001b[0mDouble\u001b[0m\u001b[0;34m\u001b[0m\u001b[0;34m\u001b[0m\u001b[0m\n",
       "\u001b[0;31mDocstring:\u001b[0m\n",
       "Java method dispatch 'getObjectiveNominalMagnification' for 'ome.xml.meta.OMEXMLMetadataImpl'\n",
       "\n",
       "Virtual Methods:\n",
       "  * java.lang.Double getObjectiveNominalMagnification(int, int)\n",
       "\n",
       "Returns:\n",
       "  java.lang.Double\n",
       "\u001b[0;31mFile:\u001b[0m      ~/miniforge3/envs/lazyslide/lib/python3.11/site-packages/jpype/_jmethod.py\n",
       "\u001b[0;31mType:\u001b[0m      _JMethod"
      ]
     },
     "metadata": {},
     "output_type": "display_data"
    }
   ],
   "source": [
    "meta.getObjectiveNominalMagnification?"
   ]
  },
  {
   "cell_type": "code",
   "execution_count": 275,
   "id": "5f47aa0e-38ba-4783-83d7-c2a92f445f52",
   "metadata": {},
   "outputs": [
    {
     "data": {
      "text/plain": [
       "1"
      ]
     },
     "execution_count": 275,
     "metadata": {},
     "output_type": "execute_result"
    }
   ],
   "source": [
    "reader.getResolutionCount()"
   ]
  },
  {
   "cell_type": "code",
   "execution_count": 273,
   "id": "74584046-5e27-4f7e-9990-ad4a5d78e48f",
   "metadata": {},
   "outputs": [
    {
     "data": {
      "text/html": [
       "<pre style=\"white-space:pre;overflow-x:auto;line-height:normal;font-family:Menlo,'DejaVu Sans Mono',consolas,'Courier New',monospace\">Resolution <span style=\"color: #008080; text-decoration-color: #008080; font-weight: bold\">0</span>\n",
       "</pre>\n"
      ],
      "text/plain": [
       "Resolution \u001b[1;36m0\u001b[0m\n"
      ]
     },
     "metadata": {},
     "output_type": "display_data"
    },
    {
     "data": {
      "text/html": [
       "<pre style=\"white-space:pre;overflow-x:auto;line-height:normal;font-family:Menlo,'DejaVu Sans Mono',consolas,'Courier New',monospace\">N Level <span style=\"color: #008080; text-decoration-color: #008080; font-weight: bold\">4</span>\n",
       "</pre>\n"
      ],
      "text/plain": [
       "N Level \u001b[1;36m4\u001b[0m\n"
      ]
     },
     "metadata": {},
     "output_type": "display_data"
    },
    {
     "data": {
      "text/html": [
       "<pre style=\"white-space:pre;overflow-x:auto;line-height:normal;font-family:Menlo,'DejaVu Sans Mono',consolas,'Courier New',monospace\">Level:  <span style=\"color: #008080; text-decoration-color: #008080; font-weight: bold\">0</span>\n",
       "</pre>\n"
      ],
      "text/plain": [
       "Level:  \u001b[1;36m0\u001b[0m\n"
      ]
     },
     "metadata": {},
     "output_type": "display_data"
    },
    {
     "data": {
      "text/html": [
       "<pre style=\"white-space:pre;overflow-x:auto;line-height:normal;font-family:Menlo,'DejaVu Sans Mono',consolas,'Courier New',monospace\">T C Z Y X N_RGB:  <span style=\"color: #008080; text-decoration-color: #008080; font-weight: bold\">1</span> <span style=\"color: #008080; text-decoration-color: #008080; font-weight: bold\">1</span> <span style=\"color: #008080; text-decoration-color: #008080; font-weight: bold\">1</span> <span style=\"color: #008080; text-decoration-color: #008080; font-weight: bold\">8989</span> <span style=\"color: #008080; text-decoration-color: #008080; font-weight: bold\">7956</span> <span style=\"color: #008080; text-decoration-color: #008080; font-weight: bold\">3</span>\n",
       "</pre>\n"
      ],
      "text/plain": [
       "T C Z Y X N_RGB:  \u001b[1;36m1\u001b[0m \u001b[1;36m1\u001b[0m \u001b[1;36m1\u001b[0m \u001b[1;36m8989\u001b[0m \u001b[1;36m7956\u001b[0m \u001b[1;36m3\u001b[0m\n"
      ]
     },
     "metadata": {},
     "output_type": "display_data"
    },
    {
     "data": {
      "text/html": [
       "<pre style=\"white-space:pre;overflow-x:auto;line-height:normal;font-family:Menlo,'DejaVu Sans Mono',consolas,'Courier New',monospace\">ome.units.quantity.Length: value<span style=\"font-weight: bold\">[</span><span style=\"color: #008080; text-decoration-color: #008080; font-weight: bold\">2.750520368718406</span><span style=\"font-weight: bold\">]</span>, unit<span style=\"font-weight: bold\">[</span>µm<span style=\"font-weight: bold\">]</span> stored as java.lang.Double\n",
       "</pre>\n"
      ],
      "text/plain": [
       "ome.units.quantity.Length: value\u001b[1m[\u001b[0m\u001b[1;36m2.750520368718406\u001b[0m\u001b[1m]\u001b[0m, unit\u001b[1m[\u001b[0mµm\u001b[1m]\u001b[0m stored as java.lang.Double\n"
      ]
     },
     "metadata": {},
     "output_type": "display_data"
    },
    {
     "data": {
      "text/html": [
       "<pre style=\"white-space:pre;overflow-x:auto;line-height:normal;font-family:Menlo,'DejaVu Sans Mono',consolas,'Courier New',monospace\">Level:  <span style=\"color: #008080; text-decoration-color: #008080; font-weight: bold\">1</span>\n",
       "</pre>\n"
      ],
      "text/plain": [
       "Level:  \u001b[1;36m1\u001b[0m\n"
      ]
     },
     "metadata": {},
     "output_type": "display_data"
    },
    {
     "data": {
      "text/html": [
       "<pre style=\"white-space:pre;overflow-x:auto;line-height:normal;font-family:Menlo,'DejaVu Sans Mono',consolas,'Courier New',monospace\">T C Z Y X N_RGB:  <span style=\"color: #008080; text-decoration-color: #008080; font-weight: bold\">1</span> <span style=\"color: #008080; text-decoration-color: #008080; font-weight: bold\">1</span> <span style=\"color: #008080; text-decoration-color: #008080; font-weight: bold\">1</span> <span style=\"color: #008080; text-decoration-color: #008080; font-weight: bold\">8974</span> <span style=\"color: #008080; text-decoration-color: #008080; font-weight: bold\">17949</span> <span style=\"color: #008080; text-decoration-color: #008080; font-weight: bold\">3</span>\n",
       "</pre>\n"
      ],
      "text/plain": [
       "T C Z Y X N_RGB:  \u001b[1;36m1\u001b[0m \u001b[1;36m1\u001b[0m \u001b[1;36m1\u001b[0m \u001b[1;36m8974\u001b[0m \u001b[1;36m17949\u001b[0m \u001b[1;36m3\u001b[0m\n"
      ]
     },
     "metadata": {},
     "output_type": "display_data"
    },
    {
     "data": {
      "text/html": [
       "<pre style=\"white-space:pre;overflow-x:auto;line-height:normal;font-family:Menlo,'DejaVu Sans Mono',consolas,'Courier New',monospace\">ome.units.quantity.Length: value<span style=\"font-weight: bold\">[</span><span style=\"color: #008080; text-decoration-color: #008080; font-weight: bold\">2.7506736095880218</span><span style=\"font-weight: bold\">]</span>, unit<span style=\"font-weight: bold\">[</span>µm<span style=\"font-weight: bold\">]</span> stored as java.lang.Double\n",
       "</pre>\n"
      ],
      "text/plain": [
       "ome.units.quantity.Length: value\u001b[1m[\u001b[0m\u001b[1;36m2.7506736095880218\u001b[0m\u001b[1m]\u001b[0m, unit\u001b[1m[\u001b[0mµm\u001b[1m]\u001b[0m stored as java.lang.Double\n"
      ]
     },
     "metadata": {},
     "output_type": "display_data"
    },
    {
     "data": {
      "text/html": [
       "<pre style=\"white-space:pre;overflow-x:auto;line-height:normal;font-family:Menlo,'DejaVu Sans Mono',consolas,'Courier New',monospace\">Level:  <span style=\"color: #008080; text-decoration-color: #008080; font-weight: bold\">2</span>\n",
       "</pre>\n"
      ],
      "text/plain": [
       "Level:  \u001b[1;36m2\u001b[0m\n"
      ]
     },
     "metadata": {},
     "output_type": "display_data"
    },
    {
     "data": {
      "text/html": [
       "<pre style=\"white-space:pre;overflow-x:auto;line-height:normal;font-family:Menlo,'DejaVu Sans Mono',consolas,'Courier New',monospace\">T C Z Y X N_RGB:  <span style=\"color: #008080; text-decoration-color: #008080; font-weight: bold\">1</span> <span style=\"color: #008080; text-decoration-color: #008080; font-weight: bold\">1</span> <span style=\"color: #008080; text-decoration-color: #008080; font-weight: bold\">1</span> <span style=\"color: #008080; text-decoration-color: #008080; font-weight: bold\">30614</span> <span style=\"color: #008080; text-decoration-color: #008080; font-weight: bold\">155755</span> <span style=\"color: #008080; text-decoration-color: #008080; font-weight: bold\">3</span>\n",
       "</pre>\n"
      ],
      "text/plain": [
       "T C Z Y X N_RGB:  \u001b[1;36m1\u001b[0m \u001b[1;36m1\u001b[0m \u001b[1;36m1\u001b[0m \u001b[1;36m30614\u001b[0m \u001b[1;36m155755\u001b[0m \u001b[1;36m3\u001b[0m\n"
      ]
     },
     "metadata": {},
     "output_type": "display_data"
    },
    {
     "data": {
      "text/html": [
       "<pre style=\"white-space:pre;overflow-x:auto;line-height:normal;font-family:Menlo,'DejaVu Sans Mono',consolas,'Courier New',monospace\">ome.units.quantity.Length: value<span style=\"font-weight: bold\">[</span><span style=\"color: #008080; text-decoration-color: #008080; font-weight: bold\">0.13776618985031722</span><span style=\"font-weight: bold\">]</span>, unit<span style=\"font-weight: bold\">[</span>µm<span style=\"font-weight: bold\">]</span> stored as java.lang.Double\n",
       "</pre>\n"
      ],
      "text/plain": [
       "ome.units.quantity.Length: value\u001b[1m[\u001b[0m\u001b[1;36m0.13776618985031722\u001b[0m\u001b[1m]\u001b[0m, unit\u001b[1m[\u001b[0mµm\u001b[1m]\u001b[0m stored as java.lang.Double\n"
      ]
     },
     "metadata": {},
     "output_type": "display_data"
    },
    {
     "data": {
      "text/html": [
       "<pre style=\"white-space:pre;overflow-x:auto;line-height:normal;font-family:Menlo,'DejaVu Sans Mono',consolas,'Courier New',monospace\">Level:  <span style=\"color: #008080; text-decoration-color: #008080; font-weight: bold\">3</span>\n",
       "</pre>\n"
      ],
      "text/plain": [
       "Level:  \u001b[1;36m3\u001b[0m\n"
      ]
     },
     "metadata": {},
     "output_type": "display_data"
    },
    {
     "data": {
      "text/html": [
       "<pre style=\"white-space:pre;overflow-x:auto;line-height:normal;font-family:Menlo,'DejaVu Sans Mono',consolas,'Courier New',monospace\">T C Z Y X N_RGB:  <span style=\"color: #008080; text-decoration-color: #008080; font-weight: bold\">1</span> <span style=\"color: #008080; text-decoration-color: #008080; font-weight: bold\">1</span> <span style=\"color: #008080; text-decoration-color: #008080; font-weight: bold\">1</span> <span style=\"color: #008080; text-decoration-color: #008080; font-weight: bold\">375</span> <span style=\"color: #008080; text-decoration-color: #008080; font-weight: bold\">991</span> <span style=\"color: #008080; text-decoration-color: #008080; font-weight: bold\">3</span>\n",
       "</pre>\n"
      ],
      "text/plain": [
       "T C Z Y X N_RGB:  \u001b[1;36m1\u001b[0m \u001b[1;36m1\u001b[0m \u001b[1;36m1\u001b[0m \u001b[1;36m375\u001b[0m \u001b[1;36m991\u001b[0m \u001b[1;36m3\u001b[0m\n"
      ]
     },
     "metadata": {},
     "output_type": "display_data"
    },
    {
     "data": {
      "text/html": [
       "<pre style=\"white-space:pre;overflow-x:auto;line-height:normal;font-family:Menlo,'DejaVu Sans Mono',consolas,'Courier New',monospace\"><span style=\"color: #800080; text-decoration-color: #800080; font-style: italic\">None</span>\n",
       "</pre>\n"
      ],
      "text/plain": [
       "\u001b[3;35mNone\u001b[0m\n"
      ]
     },
     "metadata": {},
     "output_type": "display_data"
    },
    {
     "ename": "java.lang.IllegalArgumentException",
     "evalue": "java.lang.IllegalArgumentException: Invalid resolution: 1",
     "output_type": "error",
     "traceback": [
      "\u001b[0;31m---------------------------------------------------------------------------\u001b[0m",
      "\u001b[0;31mException\u001b[0m                                 Traceback (most recent call last)",
      "File \u001b[0;32mImageReader.java:781\u001b[0m, in \u001b[0;36mloci.formats.ImageReader.setResolution\u001b[0;34m()\u001b[0m\n",
      "\u001b[0;31mException\u001b[0m: Java Exception",
      "\nThe above exception was the direct cause of the following exception:\n",
      "\u001b[0;31mjava.lang.IllegalArgumentException\u001b[0m        Traceback (most recent call last)",
      "Cell \u001b[0;32mIn[273], line 2\u001b[0m\n\u001b[1;32m      1\u001b[0m \u001b[38;5;28;01mfor\u001b[39;00m res \u001b[38;5;129;01min\u001b[39;00m \u001b[38;5;28mrange\u001b[39m(reader\u001b[38;5;241m.\u001b[39mgetResolutionCount()):\n\u001b[0;32m----> 2\u001b[0m     \u001b[43mreader\u001b[49m\u001b[38;5;241;43m.\u001b[39;49m\u001b[43msetResolution\u001b[49m\u001b[43m(\u001b[49m\u001b[43mres\u001b[49m\u001b[43m)\u001b[49m\n\u001b[1;32m      3\u001b[0m     \u001b[38;5;28mprint\u001b[39m(\u001b[38;5;124m\"\u001b[39m\u001b[38;5;124mResolution\u001b[39m\u001b[38;5;124m\"\u001b[39m, res)\n\u001b[1;32m      4\u001b[0m     n_level \u001b[38;5;241m=\u001b[39m reader\u001b[38;5;241m.\u001b[39mgetSeriesCount()\n",
      "\u001b[0;31mjava.lang.IllegalArgumentException\u001b[0m: java.lang.IllegalArgumentException: Invalid resolution: 1"
     ]
    }
   ],
   "source": [
    "for res in range(reader.getResolutionCount()):\n",
    "    reader.setResolution(res)\n",
    "    print(\"Resolution\", res)\n",
    "    n_level = reader.getSeriesCount()\n",
    "    print(\"N Level\", n_level)\n",
    "    for level in range(n_level):\n",
    "        reader.setSeries(level)\n",
    "        t = reader.getSizeT()\n",
    "        c = reader.getEffectiveSizeC()\n",
    "        z = reader.getSizeZ(),\n",
    "        y = reader.getSizeY(),\n",
    "        x = reader.getSizeX(),\n",
    "        n_rgb = reader.getRGBChannelCount(),\n",
    "        mpp = meta.getPixelsPhysicalSizeX(level)\n",
    "        print(\"Level: \", level)\n",
    "        print(\"T C Z Y X N_RGB: \", t, c, z[0], y[0], x[0], n_rgb[0])\n",
    "        print(mpp)\n",
    "        "
   ]
  },
  {
   "cell_type": "code",
   "execution_count": 263,
   "id": "357b2995-7855-4de8-8481-f73162ad039b",
   "metadata": {},
   "outputs": [
    {
     "data": {
      "text/html": [
       "<pre style=\"white-space:pre;overflow-x:auto;line-height:normal;font-family:Menlo,'DejaVu Sans Mono',consolas,'Courier New',monospace\">Level:  <span style=\"color: #008080; text-decoration-color: #008080; font-weight: bold\">0</span>\n",
       "</pre>\n"
      ],
      "text/plain": [
       "Level:  \u001b[1;36m0\u001b[0m\n"
      ]
     },
     "metadata": {},
     "output_type": "display_data"
    },
    {
     "data": {
      "text/html": [
       "<pre style=\"white-space:pre;overflow-x:auto;line-height:normal;font-family:Menlo,'DejaVu Sans Mono',consolas,'Courier New',monospace\">T C Z Y X N_RGB:  <span style=\"color: #008080; text-decoration-color: #008080; font-weight: bold\">1</span> <span style=\"color: #008080; text-decoration-color: #008080; font-weight: bold\">1</span> <span style=\"color: #008080; text-decoration-color: #008080; font-weight: bold\">1</span> <span style=\"color: #008080; text-decoration-color: #008080; font-weight: bold\">375</span> <span style=\"color: #008080; text-decoration-color: #008080; font-weight: bold\">991</span> <span style=\"color: #008080; text-decoration-color: #008080; font-weight: bold\">3</span>\n",
       "</pre>\n"
      ],
      "text/plain": [
       "T C Z Y X N_RGB:  \u001b[1;36m1\u001b[0m \u001b[1;36m1\u001b[0m \u001b[1;36m1\u001b[0m \u001b[1;36m375\u001b[0m \u001b[1;36m991\u001b[0m \u001b[1;36m3\u001b[0m\n"
      ]
     },
     "metadata": {},
     "output_type": "display_data"
    },
    {
     "data": {
      "text/html": [
       "<pre style=\"white-space:pre;overflow-x:auto;line-height:normal;font-family:Menlo,'DejaVu Sans Mono',consolas,'Courier New',monospace\">ome.units.quantity.Length: value<span style=\"font-weight: bold\">[</span><span style=\"color: #008080; text-decoration-color: #008080; font-weight: bold\">2.750520368718406</span><span style=\"font-weight: bold\">]</span>, unit<span style=\"font-weight: bold\">[</span>µm<span style=\"font-weight: bold\">]</span> stored as java.lang.Double\n",
       "</pre>\n"
      ],
      "text/plain": [
       "ome.units.quantity.Length: value\u001b[1m[\u001b[0m\u001b[1;36m2.750520368718406\u001b[0m\u001b[1m]\u001b[0m, unit\u001b[1m[\u001b[0mµm\u001b[1m]\u001b[0m stored as java.lang.Double\n"
      ]
     },
     "metadata": {},
     "output_type": "display_data"
    },
    {
     "ename": "java.lang.IllegalArgumentException",
     "evalue": "java.lang.IllegalArgumentException: Invalid resolution: 1",
     "output_type": "error",
     "traceback": [
      "\u001b[0;31m---------------------------------------------------------------------------\u001b[0m",
      "\u001b[0;31mException\u001b[0m                                 Traceback (most recent call last)",
      "File \u001b[0;32mImageReader.java:781\u001b[0m, in \u001b[0;36mloci.formats.ImageReader.setResolution\u001b[0;34m()\u001b[0m\n",
      "\u001b[0;31mException\u001b[0m: Java Exception",
      "\nThe above exception was the direct cause of the following exception:\n",
      "\u001b[0;31mjava.lang.IllegalArgumentException\u001b[0m        Traceback (most recent call last)",
      "Cell \u001b[0;32mIn[263], line 2\u001b[0m\n\u001b[1;32m      1\u001b[0m \u001b[38;5;28;01mfor\u001b[39;00m level \u001b[38;5;129;01min\u001b[39;00m \u001b[38;5;28mrange\u001b[39m(n_level):\n\u001b[0;32m----> 2\u001b[0m     \u001b[43mreader\u001b[49m\u001b[38;5;241;43m.\u001b[39;49m\u001b[43msetResolution\u001b[49m\u001b[43m(\u001b[49m\u001b[43mlevel\u001b[49m\u001b[43m)\u001b[49m\n\u001b[1;32m      3\u001b[0m     t \u001b[38;5;241m=\u001b[39m reader\u001b[38;5;241m.\u001b[39mgetSizeT()\n\u001b[1;32m      4\u001b[0m     c \u001b[38;5;241m=\u001b[39m reader\u001b[38;5;241m.\u001b[39mgetEffectiveSizeC()\n",
      "\u001b[0;31mjava.lang.IllegalArgumentException\u001b[0m: java.lang.IllegalArgumentException: Invalid resolution: 1"
     ]
    }
   ],
   "source": [
    "for level in range(n_level):\n",
    "    reader.setResolution(level)\n",
    "    t = reader.getSizeT()\n",
    "    c = reader.getEffectiveSizeC()\n",
    "    z = reader.getSizeZ(),\n",
    "    y = reader.getSizeY(),\n",
    "    x = reader.getSizeX(),\n",
    "    n_rgb = reader.getRGBChannelCount(),\n",
    "    mpp = meta.getPixelsPhysicalSizeX(level)\n",
    "    # mag = meta.getObjectiveCalibratedMagnification(0, level)\n",
    "    \n",
    "    print(\"Level: \", level)\n",
    "    print(\"T C Z Y X N_RGB: \", t, c, z[0], y[0], x[0], n_rgb[0])\n",
    "    print(mpp)\n",
    "    # print(mag)\n",
    "\n",
    "    # print(dict(reader.getSeriesMetadata()))\n",
    "    # print(reader.getMetadataOpeions())\n",
    "    "
   ]
  },
  {
   "cell_type": "code",
   "execution_count": 31,
   "id": "c1c0dc89-e763-4f9d-b596-b948e54588ed",
   "metadata": {},
   "outputs": [
    {
     "data": {
      "text/plain": [
       "True"
      ]
     },
     "execution_count": 31,
     "metadata": {},
     "output_type": "execute_result"
    }
   ],
   "source": [
    "reader.isRGB()"
   ]
  },
  {
   "cell_type": "code",
   "execution_count": 32,
   "id": "7ab8da2f-e2ca-4324-ab4b-8a001f5bed61",
   "metadata": {},
   "outputs": [
    {
     "data": {
      "text/plain": [
       "False"
      ]
     },
     "execution_count": 32,
     "metadata": {},
     "output_type": "execute_result"
    }
   ],
   "source": [
    "reader.isInterleaved()"
   ]
  },
  {
   "cell_type": "code",
   "execution_count": 33,
   "id": "fefb12a6-8c2d-4646-b7fa-76d4c8822f13",
   "metadata": {},
   "outputs": [
    {
     "data": {
      "text/plain": [
       "'XYCZT'"
      ]
     },
     "execution_count": 33,
     "metadata": {},
     "output_type": "execute_result"
    }
   ],
   "source": [
    "reader.getDimensionOrder()"
   ]
  },
  {
   "cell_type": "code",
   "execution_count": 34,
   "id": "652d64c1-8b23-4446-8b22-2c161d331054",
   "metadata": {},
   "outputs": [
    {
     "data": {
      "text/plain": [
       "1"
      ]
     },
     "execution_count": 34,
     "metadata": {},
     "output_type": "execute_result"
    }
   ],
   "source": [
    "reader.getResolutionCount()"
   ]
  },
  {
   "cell_type": "code",
   "execution_count": 35,
   "id": "4036cc1f-ac14-4d52-8242-adeaefcfd988",
   "metadata": {},
   "outputs": [
    {
     "data": {
      "text/plain": [
       "1"
      ]
     },
     "execution_count": 35,
     "metadata": {},
     "output_type": "execute_result"
    }
   ],
   "source": [
    "reader.getPixelType()"
   ]
  },
  {
   "cell_type": "code",
   "execution_count": 39,
   "id": "31ba86b0-752d-4b15-9472-0b64c9aa277a",
   "metadata": {},
   "outputs": [
    {
     "data": {
      "text/plain": [
       "{}"
      ]
     },
     "execution_count": 39,
     "metadata": {},
     "output_type": "execute_result"
    }
   ],
   "source": []
  },
  {
   "cell_type": "code",
   "execution_count": null,
   "id": "5108c916-f925-41bd-8bd9-a4b10878ad7c",
   "metadata": {},
   "outputs": [],
   "source": []
  }
 ],
 "metadata": {
  "kernelspec": {
   "display_name": "Python 3 (ipykernel)",
   "language": "python",
   "name": "python3"
  },
  "language_info": {
   "codemirror_mode": {
    "name": "ipython",
    "version": 3
   },
   "file_extension": ".py",
   "mimetype": "text/x-python",
   "name": "python",
   "nbconvert_exporter": "python",
   "pygments_lexer": "ipython3",
   "version": "3.11.0"
  }
 },
 "nbformat": 4,
 "nbformat_minor": 5
}
