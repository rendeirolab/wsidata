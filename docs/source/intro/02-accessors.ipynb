{
 "cells": [
  {
   "cell_type": "markdown",
   "id": "144130d7e5f8217d",
   "metadata": {},
   "source": [
    "# Accessors for WSIData\n",
    "\n",
    "The accessor is a concept that use attributes to extend the capabilities of a class.\n",
    "\n",
    "There are three in-built accessors in the WSIData class:\n",
    "\n",
    "- {py:class}`get <wsidata.GetAccessor>`: Get information about the WSI\n",
    "- `iter`: Iterate over the content of the WSI\n",
    "- `ds`: Create deep learning datasets from the WSI"
   ]
  },
  {
   "cell_type": "markdown",
   "id": "8ee0fdfeb325ce74",
   "metadata": {},
   "source": [
    "Here, we will load a WSI that have already been processed with tissue detection, tissue tiling, and feature extraction.\n",
    "\n",
    "In your case, you can easily run these steps with `LazySlide` package."
   ]
  },
  {
   "cell_type": "code",
   "execution_count": 2,
   "id": "initial_id",
   "metadata": {
    "ExecuteTime": {
     "end_time": "2024-09-25T09:38:08.878595Z",
     "start_time": "2024-09-25T09:38:05.051992Z"
    },
    "collapsed": true
   },
   "outputs": [],
   "source": [
    "from wsidata import open_wsi\n",
    "\n",
    "URL = \"https://openslide.cs.cmu.edu/download/openslide-testdata/Aperio/CMU-1-Small-Region.svs\"\n",
    "wsi = open_wsi(URL)"
   ]
  },
  {
   "cell_type": "markdown",
   "id": "fa7a735d54850ff7",
   "metadata": {},
   "source": "## Get accessor"
  },
  {
   "cell_type": "code",
   "execution_count": 4,
   "id": "f8f80f1adba130ff",
   "metadata": {
    "ExecuteTime": {
     "end_time": "2024-09-25T09:38:16.461892Z",
     "start_time": "2024-09-25T09:38:16.440249Z"
    }
   },
   "outputs": [
    {
     "data": {
      "text/html": [
       "<div>\n",
       "<style scoped>\n",
       "    .dataframe tbody tr th:only-of-type {\n",
       "        vertical-align: middle;\n",
       "    }\n",
       "\n",
       "    .dataframe tbody tr th {\n",
       "        vertical-align: top;\n",
       "    }\n",
       "\n",
       "    .dataframe thead th {\n",
       "        text-align: right;\n",
       "    }\n",
       "</style>\n",
       "<table border=\"1\" class=\"dataframe\">\n",
       "  <thead>\n",
       "    <tr style=\"text-align: right;\">\n",
       "      <th></th>\n",
       "      <th>height</th>\n",
       "      <th>width</th>\n",
       "      <th>downsample</th>\n",
       "    </tr>\n",
       "    <tr>\n",
       "      <th>level</th>\n",
       "      <th></th>\n",
       "      <th></th>\n",
       "      <th></th>\n",
       "    </tr>\n",
       "  </thead>\n",
       "  <tbody>\n",
       "    <tr>\n",
       "      <th>0</th>\n",
       "      <td>2967</td>\n",
       "      <td>2220</td>\n",
       "      <td>1.0</td>\n",
       "    </tr>\n",
       "  </tbody>\n",
       "</table>\n",
       "</div>"
      ],
      "text/plain": [
       "       height  width  downsample\n",
       "level                           \n",
       "0        2967   2220         1.0"
      ]
     },
     "execution_count": 4,
     "metadata": {},
     "output_type": "execute_result"
    }
   ],
   "source": [
    "wsi.get.pyramids()"
   ]
  },
  {
   "cell_type": "code",
   "execution_count": null,
   "id": "dcb0decfc03c354",
   "metadata": {},
   "outputs": [],
   "source": [
    "wsi.get.features_anndata(\"resnet50\")"
   ]
  },
  {
   "cell_type": "markdown",
   "id": "40f4a95b0015ff04",
   "metadata": {},
   "source": "## Iter accessor"
  },
  {
   "cell_type": "code",
   "execution_count": null,
   "id": "1309db0fc74f4d8e",
   "metadata": {},
   "outputs": [],
   "source": [
    "next(wsi.iter.tissue_contours())"
   ]
  },
  {
   "cell_type": "code",
   "execution_count": null,
   "id": "4f9df14532dc74a",
   "metadata": {},
   "outputs": [],
   "source": [
    "next(wsi.iter.tissue_images())"
   ]
  },
  {
   "cell_type": "code",
   "execution_count": null,
   "id": "7199fdf948a9291d",
   "metadata": {},
   "outputs": [],
   "source": [
    "next(wsi.iter.tile_images())"
   ]
  },
  {
   "cell_type": "markdown",
   "id": "848023462fdb28e1",
   "metadata": {},
   "source": "## Dataset accessor"
  },
  {
   "cell_type": "code",
   "execution_count": null,
   "id": "7fa272a92f630eaa",
   "metadata": {},
   "outputs": [],
   "source": [
    "dataset = wsi.ds.tile_images()"
   ]
  },
  {
   "cell_type": "markdown",
   "id": "53039756c91f51e4",
   "metadata": {},
   "source": "The dataset is a torch dataset that can be used to train a deep learning model. You can load it in the DataLoader and train the model."
  },
  {
   "cell_type": "code",
   "execution_count": null,
   "id": "9f26c7a5f16b1447",
   "metadata": {},
   "outputs": [],
   "source": [
    "from torch.utils.data import DataLoader\n",
    "\n",
    "dl = DataLoader(dataset, batch_size=36, shuffle=True)"
   ]
  }
 ],
 "metadata": {
  "kernelspec": {
   "display_name": "Python 3",
   "language": "python",
   "name": "python3"
  },
  "language_info": {
   "codemirror_mode": {
    "name": "ipython",
    "version": 2
   },
   "file_extension": ".py",
   "mimetype": "text/x-python",
   "name": "python",
   "nbconvert_exporter": "python",
   "pygments_lexer": "ipython2",
   "version": "2.7.6"
  }
 },
 "nbformat": 4,
 "nbformat_minor": 5
}
