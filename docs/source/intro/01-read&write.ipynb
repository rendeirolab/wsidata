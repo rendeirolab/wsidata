{
 "cells": [
  {
   "cell_type": "markdown",
   "id": "571e342c00dc4d44",
   "metadata": {},
   "source": [
    "# Open a WSI file\n",
    "\n",
    "In this notebook, we will learn \n",
    "\n",
    "1) how to open a WSI file.\n",
    "2) read its metadata and inspect its content.\n",
    "\n",
    "Let's first download an example whole slide image."
   ]
  },
  {
   "cell_type": "code",
   "execution_count": null,
   "id": "e88ba3535a10c048",
   "metadata": {
    "ExecuteTime": {
     "end_time": "2025-03-10T19:05:39.443101Z",
     "start_time": "2025-03-10T19:05:39.436445Z"
    }
   },
   "outputs": [],
   "source": [
    "import pooch\n",
    "\n",
    "s = pooch.retrieve(\n",
    "    \"https://openslide.cs.cmu.edu/download/openslide-testdata/Aperio/CMU-1-Small-Region.svs\",\n",
    "    fname=\"CMU-1-Small-Region.svs\",\n",
    "    known_hash=\"sha256:ed92d5a9f2e86df67640d6f92ce3e231419ce127131697fbbce42ad5e002c8a7\",\n",
    ")"
   ]
  },
  {
   "cell_type": "markdown",
   "id": "16bec74ac30502e",
   "metadata": {},
   "source": [
    "Let's open the WSI file."
   ]
  },
  {
   "cell_type": "code",
   "execution_count": null,
   "id": "initial_id",
   "metadata": {
    "ExecuteTime": {
     "end_time": "2025-03-10T19:05:39.653664Z",
     "start_time": "2025-03-10T19:05:39.451528Z"
    }
   },
   "outputs": [],
   "source": [
    "from wsidata import open_wsi\n",
    "\n",
    "wsi = open_wsi(s)"
   ]
  },
  {
   "cell_type": "code",
   "execution_count": null,
   "id": "beeb6ddd8adc7023",
   "metadata": {
    "ExecuteTime": {
     "end_time": "2025-03-10T19:05:39.660486Z",
     "start_time": "2025-03-10T19:05:39.658358Z"
    }
   },
   "outputs": [],
   "source": [
    "wsi"
   ]
  },
  {
   "cell_type": "markdown",
   "id": "3e0f063d8b338c0e",
   "metadata": {},
   "source": [
    "If we inspect the WSIData object, we can see that it contains several information. If you are in Jupyter environment, you will see a thumbnail of the WSI.\n",
    "\n",
    "The first line shows you the disk path to your WSI file. The reader tells you which reader was used to open the file. There are also additional information about the slide. The rest are output from SpatialData object, which we used to record the relevant analysis results of the WSI file."
   ]
  },
  {
   "cell_type": "markdown",
   "id": "1b0277fe7da9e912",
   "metadata": {},
   "source": [
    "# WSI Properties\n",
    "\n",
    "The properties of the WSI file can be accessed through the properties attribute."
   ]
  },
  {
   "cell_type": "code",
   "execution_count": null,
   "id": "e51a3c33ffe6e867",
   "metadata": {
    "ExecuteTime": {
     "end_time": "2025-03-10T19:05:39.677805Z",
     "start_time": "2025-03-10T19:05:39.675560Z"
    }
   },
   "outputs": [],
   "source": [
    "wsi.properties"
   ]
  },
  {
   "cell_type": "markdown",
   "id": "92887216-0f5c-4ffa-adb6-988cd468d5d8",
   "metadata": {},
   "source": [
    "If you want to access one of the value, you can use attributes."
   ]
  },
  {
   "cell_type": "code",
   "execution_count": null,
   "id": "07c9ef6f-3442-4ee2-b36b-162419a1430f",
   "metadata": {},
   "outputs": [],
   "source": [
    "f\"The mpp of the slide is {wsi.properties.mpp}\""
   ]
  },
  {
   "cell_type": "markdown",
   "id": "c6d4e282839e322c",
   "metadata": {},
   "source": [
    "# What does the WSI looks like?"
   ]
  },
  {
   "cell_type": "code",
   "execution_count": null,
   "id": "96ca56bad3a3d5b7",
   "metadata": {
    "ExecuteTime": {
     "end_time": "2025-03-10T19:05:39.797110Z",
     "start_time": "2025-03-10T19:05:39.690480Z"
    }
   },
   "outputs": [],
   "source": [
    "wsi.thumbnail"
   ]
  },
  {
   "cell_type": "markdown",
   "id": "a217f7c0f9c4771e",
   "metadata": {},
   "source": [
    "# Access the WSI region\n",
    "\n",
    "You can access a region of the WSI file by specifying the x-y coordination and the size of the region. Here we access a region of size 250x210 at (1000, 1000) at level 0."
   ]
  },
  {
   "cell_type": "code",
   "execution_count": null,
   "id": "c15e6ff112b73f9e",
   "metadata": {
    "ExecuteTime": {
     "end_time": "2025-03-10T19:05:39.808079Z",
     "start_time": "2025-03-10T19:05:39.805653Z"
    }
   },
   "outputs": [],
   "source": [
    "# This will return a numpy array in uint8 format\n",
    "region = wsi.read_region(1000, 1000, 210, 250, level=0)"
   ]
  },
  {
   "cell_type": "markdown",
   "id": "2a3cfb858d70d8d8",
   "metadata": {},
   "source": [
    "Let's visualize the region."
   ]
  },
  {
   "cell_type": "code",
   "execution_count": null,
   "id": "f399d89c655ed06e",
   "metadata": {
    "ExecuteTime": {
     "end_time": "2025-03-10T19:05:39.821110Z",
     "start_time": "2025-03-10T19:05:39.816186Z"
    }
   },
   "outputs": [],
   "source": [
    "from PIL import Image\n",
    "\n",
    "Image.fromarray(region)"
   ]
  },
  {
   "cell_type": "markdown",
   "id": "e973cbaf0e239d24",
   "metadata": {},
   "source": [
    "# Save the wsidata on disk\n",
    "\n",
    "The WSIData object is inherited from SpatialData object. You can save it on disk as a zarr file. However, you don't need to specify the path, by default, it will be saved in the same directory as the WSI file."
   ]
  },
  {
   "cell_type": "code",
   "execution_count": null,
   "id": "50f97b5351538951",
   "metadata": {
    "ExecuteTime": {
     "end_time": "2025-03-10T19:05:39.827458Z",
     "start_time": "2025-03-10T19:05:39.825658Z"
    }
   },
   "outputs": [],
   "source": [
    "wsi.wsi_store"
   ]
  },
  {
   "cell_type": "markdown",
   "id": "b45b8745-7b09-4b6e-88a9-8d5a203a9295",
   "metadata": {},
   "source": [
    "Here, the zarr storage will have the same name as the slide file"
   ]
  },
  {
   "cell_type": "code",
   "execution_count": null,
   "id": "342570366c9fded7",
   "metadata": {
    "ExecuteTime": {
     "end_time": "2025-03-10T19:05:40.660474Z",
     "start_time": "2025-03-10T19:05:39.836805Z"
    }
   },
   "outputs": [],
   "source": [
    "# To save it on disk\n",
    "wsi.write()\n",
    "# To save it on disk with a specific name\n",
    "# wsi.write(\"data/sample.zarr\")"
   ]
  }
 ],
 "metadata": {
  "kernelspec": {
   "display_name": "Python 3 (ipykernel)",
   "language": "python",
   "name": "python3"
  },
  "language_info": {
   "codemirror_mode": {
    "name": "ipython",
    "version": 3
   },
   "file_extension": ".py",
   "mimetype": "text/x-python",
   "name": "python",
   "nbconvert_exporter": "python",
   "pygments_lexer": "ipython3",
   "version": "3.12.8"
  },
  "widgets": {
   "application/vnd.jupyter.widget-state+json": {
    "state": {},
    "version_major": 2,
    "version_minor": 0
   }
  }
 },
 "nbformat": 4,
 "nbformat_minor": 5
}
