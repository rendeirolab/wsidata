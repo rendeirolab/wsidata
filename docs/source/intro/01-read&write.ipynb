{
 "cells": [
  {
   "metadata": {},
   "cell_type": "markdown",
   "source": [
    "# Open a WSI file\n",
    "\n",
    "We will learn how to open a WSI file, read its metadata and inspect its content."
   ],
   "id": "571e342c00dc4d44"
  },
  {
   "cell_type": "code",
   "id": "initial_id",
   "metadata": {
    "collapsed": true
   },
   "source": "from wsidata import open_wsi",
   "outputs": [],
   "execution_count": null
  },
  {
   "metadata": {},
   "cell_type": "markdown",
   "source": "You can either open a local or a remote WSI file. If you open a remote file, the file will be downloaded to your working directory by default and cached for future use.",
   "id": "a7af19de03ded9d3"
  },
  {
   "metadata": {},
   "cell_type": "code",
   "source": [
    "URL = \"https://openslide.cs.cmu.edu/download/openslide-testdata/Aperio/CMU-1-Small-Region.svs\"\n",
    "\n",
    "wsi = open_wsi(URL)"
   ],
   "id": "aaf7e0da4729db95",
   "outputs": [],
   "execution_count": null
  },
  {
   "metadata": {},
   "cell_type": "markdown",
   "source": [
    "Here we also showcase how to cache the file in a specific directory with a specific name.\n",
    "\n",
    "```python\n",
    "wsi = open_wsi(URL, cache_dir=\"data\", name=\"sample.svs\")\n",
    "```"
   ],
   "id": "f48fbb645cdcf303"
  },
  {
   "metadata": {},
   "cell_type": "code",
   "source": "wsi",
   "id": "beeb6ddd8adc7023",
   "outputs": [],
   "execution_count": null
  },
  {
   "metadata": {},
   "cell_type": "markdown",
   "source": [
    "If we inspect the WSIData object, we can see that it contains several information.\n",
    "The first line shows you the disk path to your WSI file. The reader tells you which reader was used to open the file. The rest are output from SpatialData object, which we used to record the relevant analysis results of the WSI file."
   ],
   "id": "3e0f063d8b338c0e"
  },
  {
   "metadata": {},
   "cell_type": "markdown",
   "source": [
    "# WSI Properties\n",
    "\n",
    "The properties of the WSI file can be accessed through the properties attribute."
   ],
   "id": "1b0277fe7da9e912"
  },
  {
   "metadata": {},
   "cell_type": "code",
   "source": "wsi.properties",
   "id": "e51a3c33ffe6e867",
   "outputs": [],
   "execution_count": null
  },
  {
   "metadata": {},
   "cell_type": "markdown",
   "source": "# What does the WSI looks like?",
   "id": "c6d4e282839e322c"
  },
  {
   "metadata": {},
   "cell_type": "code",
   "source": "wsi.thumbnail",
   "id": "96ca56bad3a3d5b7",
   "outputs": [],
   "execution_count": null
  },
  {
   "metadata": {},
   "cell_type": "markdown",
   "source": [
    "# Access the WSI region\n",
    "\n",
    "You can access a region of the WSI file by specifying the x-y coordination and the size of the region. Here we access a region of size 250x210 at (1000, 1000) at level 0."
   ],
   "id": "a217f7c0f9c4771e"
  },
  {
   "metadata": {},
   "cell_type": "code",
   "source": [
    "# This will return a numpy array in uint8 format\n",
    "region = wsi.read_region(1000, 1000, 210, 250, level=0)"
   ],
   "id": "c15e6ff112b73f9e",
   "outputs": [],
   "execution_count": null
  },
  {
   "metadata": {},
   "cell_type": "markdown",
   "source": "Let's visualize the region.",
   "id": "2a3cfb858d70d8d8"
  },
  {
   "metadata": {},
   "cell_type": "code",
   "source": [
    "from PIL import Image\n",
    "\n",
    "Image.fromarray(region)"
   ],
   "id": "f399d89c655ed06e",
   "outputs": [],
   "execution_count": null
  }
 ],
 "metadata": {
  "kernelspec": {
   "display_name": "Python 3",
   "language": "python",
   "name": "python3"
  },
  "language_info": {
   "codemirror_mode": {
    "name": "ipython",
    "version": 2
   },
   "file_extension": ".py",
   "mimetype": "text/x-python",
   "name": "python",
   "nbconvert_exporter": "python",
   "pygments_lexer": "ipython2",
   "version": "2.7.6"
  }
 },
 "nbformat": 4,
 "nbformat_minor": 5
}
